{
 "cells": [
  {
   "cell_type": "code",
   "execution_count": 23,
   "metadata": {},
   "outputs": [],
   "source": [
    "import pymongo\n",
    "import pandas as pd\n",
    "import numpy as np\n",
    "import datetime\n",
    "import dateutil\n",
    "import csv\n",
    "\n",
    "from sklearn.neighbors import KNeighborsRegressor\n",
    "from sklearn.neighbors import NearestNeighbors\n",
    "from sklearn.neighbors import KNeighborsClassifier\n",
    "from tqdm import tqdm "
   ]
  },
  {
   "cell_type": "code",
   "execution_count": 80,
   "metadata": {},
   "outputs": [
    {
     "name": "stdout",
     "output_type": "stream",
     "text": [
      "Extract data for: conference_room.csv\n",
      "Extract data for: lab_room.csv\n",
      "Extract data for: kitchen_room.csv\n"
     ]
    }
   ],
   "source": [
    "file_names=['conference_room.csv', 'lab_room.csv', 'kitchen_room.csv']\n",
    "#file_names=['conference_room.csv']\n",
    "anchor_name=[\"raspberrypi\"+str(i) for i in range(1, 13)]\n",
    "minor='41'\n",
    "test_time=10\n",
    "\n",
    "#Format: train_data[room index, x, y, direction]=list of training data from all the anchors\n",
    "# Format: test_data[room index, x, y, direction]=list of testing data from all the anchors\n",
    "train_data={}\n",
    "test_data={}\n",
    "\n",
    "for i in range(len(file_names)):\n",
    "    file=file_names[i]\n",
    "    print(\"Extract data for:\", file)\n",
    "    df=pd.read_csv(file, sep=',')\n",
    "    test_info=np.array(df)\n",
    "    \n",
    "    df_samples=[]\n",
    "    # extract data for all the anchors\n",
    "    for anchor in anchor_name:\n",
    "        current_df_sample=pd.read_csv('./fingerprint/'+anchor+'_'+minor+'_'+file, sep=',')\n",
    "        df_samples.append(current_df_sample)\n",
    "        \n",
    "        \n",
    "    for j in range(int(len(test_info)/2)):\n",
    "        x=test_info[j*2][2]\n",
    "        y=test_info[j*2][3]\n",
    "        direction=test_info[j*2][4]\n",
    "        rssi_pi=[]\n",
    "        time_pi=[]\n",
    "        for data in df_samples:\n",
    "            # Save data for all the anchors\n",
    "            rssi_pi.append(np.array(data[(data['x']==x) & (data['y']==y) & (data['direction']==direction)]['RSSI'])[::-1])\n",
    "            time_pi.append(np.array(data[(data['x']==x) & (data['y']==y) & (data['direction']==direction)]['time'])[::-1])\n",
    "\n",
    "\n",
    "        test_end_time=np.max([dateutil.parser.parse(time[-1]) for time in time_pi if len(time)!=0])\n",
    "        test_start_time=test_end_time-datetime.timedelta(seconds=test_time)\n",
    "        #print(x, y, direction,end_time)\n",
    "\n",
    "        current_train_data=[]\n",
    "        current_test_data=[]\n",
    "    \n",
    "        # len(rssi_pi) = number of anchors\n",
    "        for k in range(len(rssi_pi)):\n",
    "            current_time=np.array([dateutil.parser.parse(time) for time in time_pi[k]])\n",
    "            current_test_data.append(list(rssi_pi[k][current_time>=test_start_time]))\n",
    "            current_train_data.append(list(rssi_pi[k][current_time<test_start_time]))\n",
    "\n",
    "        test_data[i, x, y, direction]=current_test_data\n",
    "        train_data[i, x, y, direction]=current_train_data\n",
    "        \n",
    "    "
   ]
  },
  {
   "cell_type": "code",
   "execution_count": null,
   "metadata": {},
   "outputs": [],
   "source": []
  },
  {
   "cell_type": "code",
   "execution_count": null,
   "metadata": {},
   "outputs": [],
   "source": []
  },
  {
   "cell_type": "code",
   "execution_count": 16,
   "metadata": {},
   "outputs": [],
   "source": [
    "# Generate training and testing data for the room-level classification\n",
    "train_x=[]\n",
    "train_y=[]\n",
    "\n",
    "test_x=[]\n",
    "test_y=[]\n",
    "\n",
    "for key in train_data:    \n",
    "    train_x.append([np.median(data) if len(data)!=0 else -100 for data in train_data[key]])\n",
    "    test_x.append([np.median(data) if len(data)!=0 else -100 for data in test_data[key]])\n",
    "    train_y.append(key[0])\n",
    "    test_y.append(key[0])\n",
    "    "
   ]
  },
  {
   "cell_type": "code",
   "execution_count": 81,
   "metadata": {},
   "outputs": [
    {
     "name": "stdout",
     "output_type": "stream",
     "text": [
      "1 0.9463087248322147\n",
      "2 0.9211409395973155\n",
      "3 0.9161073825503355\n",
      "4 0.9144295302013423\n",
      "5 0.9060402684563759\n",
      "6 0.9026845637583892\n",
      "7 0.8942953020134228\n",
      "8 0.8993288590604027\n",
      "9 0.8942953020134228\n",
      "10 0.8993288590604027\n"
     ]
    }
   ],
   "source": [
    "# room level detection\n",
    "# consider all the anchors\n",
    "k_candidate=[1, 2, 3, 4, 5, 6, 7, 8, 9, 10]\n",
    "#k_candidate=[1]\n",
    "accuracy=[]\n",
    "for k in k_candidate:\n",
    "    predict_y=[]\n",
    "    neigh_room = KNeighborsClassifier(n_neighbors=k)\n",
    "    neigh_room.fit(np.array(train_x), np.array(train_y))\n",
    "    for test_rssi in test_x:\n",
    "        predict_y.append(neigh_room.predict([test_rssi])[0])\n",
    "    print(k, np.sum(np.array(test_y)==np.array(predict_y))/len(test_y))\n",
    "    accuracy.append(np.sum(np.array(test_y)==np.array(predict_y))/len(test_y))"
   ]
  },
  {
   "cell_type": "code",
   "execution_count": 86,
   "metadata": {},
   "outputs": [
    {
     "data": {
      "image/png": "[encoded data removed]",
      "text/plain": [
       "<Figure size 432x288 with 1 Axes>"
      ]
     },
     "metadata": {
      "needs_background": "light"
     },
     "output_type": "display_data"
    }
   ],
   "source": [
    "import matplotlib.pyplot as plt\n",
    "plt.plot(k_candidate, accuracy)\n",
    "plt.xlabel(\"K in KNN Classification\")\n",
    "plt.ylabel(\"Accuracy\")\n",
    "plt.title(\"Room-level Localiztion Accuracy (with all the anchors)\")\n",
    "plt.show()"
   ]
  },
  {
   "cell_type": "code",
   "execution_count": 91,
   "metadata": {},
   "outputs": [
    {
     "name": "stdout",
     "output_type": "stream",
     "text": [
      "1 0.7751677852348994\n",
      "2 0.7550335570469798\n",
      "3 0.7701342281879194\n",
      "4 0.7768456375838926\n",
      "5 0.7835570469798657\n",
      "6 0.7885906040268457\n",
      "7 0.802013422818792\n",
      "8 0.8003355704697986\n",
      "9 0.8104026845637584\n",
      "10 0.7969798657718121\n"
     ]
    }
   ],
   "source": [
    "# room level detection\n",
    "# consider the strongest k_anchor rssi \n",
    "k_candidate=[1, 2, 3, 4, 5, 6, 7, 8, 9, 10]\n",
    "k_anchor=3\n",
    "\n",
    "accuracy=[]\n",
    "for k in k_candidate:\n",
    "    predict_y=[]\n",
    "    for test_rssi in test_x:\n",
    "        anchor_index=np.argsort(np.array(test_rssi))[:-(k_anchor+1):-1]\n",
    "        #print(np.argsort(np.array(test_rssi)))\n",
    "        neigh_room = KNeighborsClassifier(n_neighbors=k)\n",
    "        neigh_room.fit(np.array(train_x)[:,anchor_index], np.array(train_y))\n",
    "        predict_y.append(neigh_room.predict([np.array(test_rssi)[anchor_index]])[0])\n",
    "        \n",
    "    print(k, np.sum(np.array(test_y)==np.array(predict_y))/len(test_y))\n",
    "    accuracy.append(np.sum(np.array(test_y)==np.array(predict_y))/len(test_y))"
   ]
  },
  {
   "cell_type": "code",
   "execution_count": 92,
   "metadata": {},
   "outputs": [
    {
     "data": {
      "image/png": "[encoded data removed]",
      "text/plain": [
       "<Figure size 432x288 with 1 Axes>"
      ]
     },
     "metadata": {
      "needs_background": "light"
     },
     "output_type": "display_data"
    }
   ],
   "source": [
    "plt.plot(k_candidate, accuracy)\n",
    "plt.xlabel(\"K in KNN Classification\")\n",
    "plt.ylabel(\"Accuracy\")\n",
    "plt.title(\"Room-level Localiztion Accuracy (with the strongest 3 RSSI values)\")\n",
    "plt.show()"
   ]
  },
  {
   "cell_type": "code",
   "execution_count": null,
   "metadata": {},
   "outputs": [],
   "source": []
  }
 ],
 "metadata": {
  "kernelspec": {
   "display_name": "Python 3",
   "language": "python",
   "name": "python3"
  },
  "language_info": {
   "codemirror_mode": {
    "name": "ipython",
    "version": 3
   },
   "file_extension": ".py",
   "mimetype": "text/x-python",
   "name": "python",
   "nbconvert_exporter": "python",
   "pygments_lexer": "ipython3",
   "version": "3.7.4"
  }
 },
 "nbformat": 4,
 "nbformat_minor": 2
}
